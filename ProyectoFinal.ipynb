{
 "cells": [
  {
   "cell_type": "code",
   "execution_count": 4,
   "metadata": {},
   "outputs": [
    {
     "name": "stdout",
     "output_type": "stream",
     "text": [
      "Using TensorFlow Version 1.9.0\n"
     ]
    }
   ],
   "source": [
    "import numpy as np\n",
    "from sklearn.datasets import make_moons\n",
    "from sklearn.model_selection import train_test_split\n",
    "import matplotlib.pyplot as plt\n",
    "import tensorflow as tf\n",
    "from tensorflow.contrib.layers import fully_connected\n",
    "%matplotlib inline\n",
    "print(\"Using TensorFlow Version %s\" %tf.__version__)"
   ]
  },
  {
   "cell_type": "code",
   "execution_count": 5,
   "metadata": {},
   "outputs": [
    {
     "ename": "ValueError",
     "evalue": "not enough values to unpack (expected 2, got 0)",
     "output_type": "error",
     "traceback": [
      "\u001b[0;31m---------------------------------------------------------------------------\u001b[0m",
      "\u001b[0;31mValueError\u001b[0m                                Traceback (most recent call last)",
      "\u001b[0;32m<ipython-input-5-b2c12702b8b8>\u001b[0m in \u001b[0;36m<module>\u001b[0;34m()\u001b[0m\n\u001b[1;32m      2\u001b[0m \u001b[0;31m#Creación de los datos usando make_moons\u001b[0m\u001b[0;34m\u001b[0m\u001b[0;34m\u001b[0m\u001b[0m\n\u001b[1;32m      3\u001b[0m \u001b[0mnp\u001b[0m\u001b[0;34m.\u001b[0m\u001b[0mrandom\u001b[0m\u001b[0;34m.\u001b[0m\u001b[0mseed\u001b[0m\u001b[0;34m(\u001b[0m\u001b[0;36m0\u001b[0m\u001b[0;34m)\u001b[0m\u001b[0;34m\u001b[0m\u001b[0m\n\u001b[0;32m----> 4\u001b[0;31m \u001b[0mX\u001b[0m\u001b[0;34m,\u001b[0m \u001b[0mY\u001b[0m \u001b[0;34m=\u001b[0m \u001b[0;34m[\u001b[0m\u001b[0;34m]\u001b[0m\u001b[0;34m\u001b[0m\u001b[0m\n\u001b[0m\u001b[1;32m      5\u001b[0m \u001b[0;34m\u001b[0m\u001b[0m\n\u001b[1;32m      6\u001b[0m \u001b[0;31m# División de los datos usando train_test_split\u001b[0m\u001b[0;34m\u001b[0m\u001b[0;34m\u001b[0m\u001b[0m\n",
      "\u001b[0;31mValueError\u001b[0m: not enough values to unpack (expected 2, got 0)"
     ]
    }
   ],
   "source": [
    "#Data creation\n",
    "#Creación de los datos usando make_moons\n",
    "np.random.seed(0)\n",
    "X, Y = [] \n",
    "\n",
    "# División de los datos usando train_test_split\n",
    "X_train, X_test, Y_train, Y_test = []"
   ]
  },
  {
   "cell_type": "code",
   "execution_count": 3,
   "metadata": {},
   "outputs": [
    {
     "ename": "NameError",
     "evalue": "name 'X_train' is not defined",
     "output_type": "error",
     "traceback": [
      "\u001b[0;31m---------------------------------------------------------------------------\u001b[0m",
      "\u001b[0;31mNameError\u001b[0m                                 Traceback (most recent call last)",
      "\u001b[0;32m<ipython-input-3-947496add3ec>\u001b[0m in \u001b[0;36m<module>\u001b[0;34m()\u001b[0m\n\u001b[1;32m      1\u001b[0m \u001b[0;31m# Definición de la estructura de la red:\u001b[0m\u001b[0;34m\u001b[0m\u001b[0;34m\u001b[0m\u001b[0m\n\u001b[0;32m----> 2\u001b[0;31m \u001b[0mnInputRows\u001b[0m \u001b[0;34m=\u001b[0m \u001b[0mX_train\u001b[0m\u001b[0;34m.\u001b[0m\u001b[0mshape\u001b[0m\u001b[0;34m[\u001b[0m\u001b[0;36m0\u001b[0m\u001b[0;34m]\u001b[0m \u001b[0;31m# cuantos renglones\u001b[0m\u001b[0;34m\u001b[0m\u001b[0m\n\u001b[0m\u001b[1;32m      3\u001b[0m \u001b[0mnInputsColumns\u001b[0m \u001b[0;34m=\u001b[0m \u001b[0mX_train\u001b[0m\u001b[0;34m.\u001b[0m\u001b[0mshape\u001b[0m\u001b[0;34m[\u001b[0m\u001b[0;36m1\u001b[0m\u001b[0;34m]\u001b[0m \u001b[0;31m#cuantas columnas\u001b[0m\u001b[0;34m\u001b[0m\u001b[0m\n\u001b[1;32m      4\u001b[0m \u001b[0;34m\u001b[0m\u001b[0m\n\u001b[1;32m      5\u001b[0m \u001b[0;31m# Capa\u001b[0m\u001b[0;34m\u001b[0m\u001b[0;34m\u001b[0m\u001b[0m\n",
      "\u001b[0;31mNameError\u001b[0m: name 'X_train' is not defined"
     ]
    }
   ],
   "source": [
    "# Definición de la estructura de la red:\n",
    "nInputRows = X_train.shape[0] # cuantos renglones\n",
    "nInputsColumns = X_train.shape[1] #cuantas columnas\n",
    "\n",
    "# Capa\n",
    "nHiddenNeurons = 4 # número de neuronas\n",
    "nOutputs = 1 # número de salidas, binario"
   ]
  },
  {
   "cell_type": "code",
   "execution_count": 6,
   "metadata": {},
   "outputs": [],
   "source": [
    "class NeuronalNet(object):\n",
    "    def __init__(self, sess, X, Y, n_hidden=4, learning_rate=1e-2, layers=1):\n",
    "        self.sess = sess #Sesión para correr TensorFlow\n",
    "        self.X = X # Entradas\n",
    "        self.Y = Y.reshape(-1,1) #Salidas\n",
    "        self.n_inputs = X.shape[0] # Renglones\n",
    "        self.n_input_dim = X.shape[1] #Columnas\n",
    "        self.n_output = 1 # Como es binario, sólo UNA salida\n",
    "        self.learning_rate = learning_rate \n",
    "        self.layers = layers\n",
    "        '''\n",
    "        La tasa de aprendizaje es un hiper-parámetro que controla \n",
    "        cuánto estamos ajustando los pesos de nuestra red con respecto \n",
    "        al gradiente de pérdida. Cuanto más bajo sea el valor, \n",
    "        más lento viajamos a lo largo de la pendiente descendente. \n",
    "        Si bien esto podría ser una buena idea (usar una tasa de aprendizaje baja) \n",
    "        para asegurarnos de no perder ningún mínimo local, \n",
    "        también podría significar que nos llevará mucho tiempo converger, \n",
    "        especialmente si nos quedamos atascados. \n",
    "        '''\n",
    "        self.n_hidden = n_hidden # número de neuronas \n",
    "        \n",
    "        # Create NeuronalNet\n",
    "        self.X_input, self.y, self.logits, self.cost = self.createNeuralNet()\n",
    "        \n",
    "        self.optimizer = tf.train.AdamOptimizer(self.learning_rate) #optimizador\n",
    "\n",
    "        self.train_op = self.optimizer.minimize(self.cost)#operación de entreanmiento\n",
    "\n",
    "\n",
    "    #Metodo de construcción de la red:\n",
    "    def createNeuralNet(self):\n",
    "        # Investiga qué es el xavier_initializer???? Reporta en el código:\n",
    "        initializer = tf.contrib.layers.xavier_initializer()\n",
    "\n",
    "        # Agrega el placeholder para X_input, entradas\n",
    "        X_input = tf.placeholder(shape=[None, self.n_input_dim], dtype=tf.float32, name='input')\n",
    "        # Agrega el placeholder para y, salidas\n",
    "        y = tf.placeholder(shape=[None, self.n_output], dtype=tf.float32, name='output')\n",
    "\n",
    "        # Agrega una capa fully_connected de X_input * n_hidden, con una activación (activation_fn) tf.nn.elu, inicializa los pesos weights_initializer\n",
    "        #Reporta qué es una función de activación tf.nn.elu\n",
    "        _hiddens = []\n",
    "        for i in range(0, self.layers):\n",
    "            if (i == 0): hidden_input = X_input\n",
    "            else: hidden_input = _hiddens[len(_hiddens) - 1]\n",
    "            hidden_temp = tf.contrib.layers.fully_connected(hidden_input, self.n_hidden, activation_fn=tf.nn.elu, weights_initializer=initializer)\n",
    "            _hiddens.append(hidden_temp)\n",
    "        # Agrega una capa fully_connected de hidden1 * n_output ,\n",
    "        #con una activación (activation_fn) tf.nn.sigmoid, inicializa los pesos weights_initializer\n",
    "        logits = tf.contrib.layers.fully_connected(_hiddens[len(_hiddens) - 1], self.n_output, activation_fn=tf.nn.sigmoid, weights_initializer=initializer)\n",
    "        #!!!!!!!!!!!!! calcula el error con tf.nn.sigmoid_cross_entropy_with_logits\n",
    "        loss = tf.nn.sigmoid_cross_entropy_with_logits(logits=logits, labels=y, name='loss')\n",
    "        #calcula el costo con tf.reduce_mean\n",
    "        cost = tf.reduce_mean(loss)\n",
    "        \n",
    "        #Regresa X_input, y, logits, costo\n",
    "        return X_input, y, logits, cost\n",
    "    \n",
    "    #funcion de entrenamiento \n",
    "    def train(self):\n",
    "    \t#ejecuta el entrenamiento debes correr train_op, cost y en el diccionario manda X_input, X , y, Y\n",
    "        _, cost = self.sess.run([self.train_op,self.cost], feed_dict={ self.X_input: self.X, self.y: self.Y })        \n",
    "        return cost\n",
    "    \n",
    "\t#funcion de predicción\n",
    "    #NO modificar, dudas con el código?\n",
    "    def predict(self, X_test):\n",
    "        pred = self.sess.run([self.logits], feed_dict={ self.X_input: X_test})[0]        \n",
    "        return pred\n",
    "    \n",
    "    #función de graficación, NO modificar\n",
    "    #Fuente: http://scikit-learn.org/stable/auto_examples/neural_networks/plot_mlp_alpha.html#sphx-glr-auto-examples-neural-networks-plot-mlp-alpha-py\n",
    "    def plot_decision_boundary(self):\n",
    "        x_min, x_max = self.X[:, 0].min()-0.1, self.X[:, 0].max()+0.1\n",
    "        y_min, y_max = self.X[:, 1].min()-0.1, self.X[:, 1].max()+0.1\n",
    "        spacing = min(x_max - x_min, y_max - y_min) / 100\n",
    "        XX, YY = np.meshgrid(np.arange(x_min, x_max, spacing),\n",
    "                       np.arange(y_min, y_max, spacing))\n",
    "        data = np.hstack((XX.ravel().reshape(-1,1), \n",
    "                          YY.ravel().reshape(-1,1)))\n",
    "        db_prob = self.predict(data)\n",
    "        clf = np.where(db_prob<0.5,0,1)\n",
    "        Z = clf.reshape(XX.shape)\n",
    "        plt.figure(figsize=(10,8))\n",
    "        plt.contourf(XX, YY, Z, cmap=plt.cm.Spectral, alpha=0.8)\n",
    "        plt.scatter(X[:,0], X[:,1], c=Y, \n",
    "                    cmap=plt.cm.Spectral)\n",
    "        plt.show()"
   ]
  },
  {
   "cell_type": "code",
   "execution_count": null,
   "metadata": {},
   "outputs": [],
   "source": []
  }
 ],
 "metadata": {
  "kernelspec": {
   "display_name": "Python 3",
   "language": "python",
   "name": "python3"
  },
  "language_info": {
   "codemirror_mode": {
    "name": "ipython",
    "version": 3
   },
   "file_extension": ".py",
   "mimetype": "text/x-python",
   "name": "python",
   "nbconvert_exporter": "python",
   "pygments_lexer": "ipython3",
   "version": "3.6.5"
  }
 },
 "nbformat": 4,
 "nbformat_minor": 2
}
