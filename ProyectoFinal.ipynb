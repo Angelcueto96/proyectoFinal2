{
 "cells": [
  {
   "cell_type": "code",
   "execution_count": 41,
   "metadata": {},
   "outputs": [],
   "source": [
    "import math\n",
    "import numpy as np\n",
    "from sklearn.datasets import make_moons\n",
    "from sklearn.model_selection import train_test_split\n",
    "import matplotlib.pyplot as plt\n",
    "import tensorflow as tf\n",
    "from tensorflow.contrib.layers import fully_connected\n",
    "%matplotlib inline\n",
    "import pandas as pd\n",
    "from keras import Sequential\n",
    "from keras.layers import Dense\n",
    "from keras.initializers import glorot_normal"
   ]
  },
  {
   "cell_type": "code",
   "execution_count": 42,
   "metadata": {},
   "outputs": [],
   "source": [
    "#ProductId, Name, Ofert, Cost, Year, Month\n",
    "\n",
    "#products = pd.read_csv(\"dataset.csv\", sep=\"\\t\" )\n",
    "xData = pd.read_csv(\"dataset.csv\", usecols=['Id' , 'Precio de Mercado' , 'Temporada' , 'Descuento_Cantidad'] )\n",
    "yData =  pd.read_csv(\"dataset.csv\", usecols=['Precio Final' , 'Descuento_Bool'] )\n",
    "\n"
   ]
  },
  {
   "cell_type": "code",
   "execution_count": 43,
   "metadata": {},
   "outputs": [
    {
     "name": "stdout",
     "output_type": "stream",
     "text": [
      "[[1.00000e+00 2.00000e+02 1.00000e+00 0.00000e+00]\n",
      " [1.00000e+00 2.00000e+02 2.00000e+00 0.00000e+00]\n",
      " [1.00000e+00 2.00000e+02 3.00000e+00 0.00000e+00]\n",
      " ...\n",
      " [6.00000e+00 1.31471e+03 1.00000e+01 0.00000e+00]\n",
      " [6.00000e+00 1.31471e+03 1.10000e+01 0.00000e+00]\n",
      " [6.00000e+00 1.31471e+03 1.20000e+01 0.00000e+00]]\n"
     ]
    },
    {
     "data": {
      "text/plain": [
       "array([[1.0000e+00, 2.0000e+02, 1.0000e+00, 0.0000e+00],\n",
       "       [1.0000e+00, 2.0000e+02, 2.0000e+00, 0.0000e+00],\n",
       "       [1.0000e+00, 2.0000e+02, 3.0000e+00, 0.0000e+00],\n",
       "       ...,\n",
       "       [5.0000e+00, 9.5488e+02, 5.0000e+00, 0.0000e+00],\n",
       "       [5.0000e+00, 9.5488e+02, 6.0000e+00, 5.0000e-01],\n",
       "       [5.0000e+00, 9.5488e+02, 7.0000e+00, 5.0000e-01]])"
      ]
     },
     "execution_count": 43,
     "metadata": {},
     "output_type": "execute_result"
    }
   ],
   "source": [
    "\n",
    "#np.random.seed(0)\n",
    "\n",
    "xArray = xData.values\n",
    "yArray = yData.values \n",
    "\n",
    "xArray\n",
    "\n",
    "X = np.array(xArray)\n",
    "Y = np.array(yArray)\n",
    "\n",
    "\n",
    "X_train = np.array( (xArray[:math.floor(xArray.shape[0] * .8) , : ])).astype(float)\n",
    "Y_train = np.array( (yArray[:math.floor(xArray.shape[0] * .8), :])).astype(float)\n",
    "\n",
    "\n",
    "X_test = np.array((xArray[math.floor(xArray.shape[0] * .8): ,:])).astype(float)\n",
    "Y_test = np.array((yArray[math.floor(xArray.shape[0] * .8):, :])).astype(float)\n",
    "\n",
    "\n",
    "# División de los datos usando train_test_split\n",
    "#X_train, X_test, Y_train, Y_test = []"
   ]
  },
  {
   "cell_type": "code",
   "execution_count": 48,
   "metadata": {},
   "outputs": [],
   "source": [
    "out_dimension = 2\n",
    "nHidden = 20\n",
    "nInputDimensions = X_train.shape[1]"
   ]
  },
  {
   "cell_type": "code",
   "execution_count": 49,
   "metadata": {},
   "outputs": [],
   "source": [
    "modelo = Sequential()\n",
    "modelo.add(Dense(nHidden, input_dim=nInputDimensions, activation='elu', \\\n",
    "                  kernel_initializer=glorot_normal(seed=0)))\n",
    "for i in range(0, 5): # capas\n",
    "    modelo.add(Dense(nHidden, activation='elu', kernel_initializer=glorot_normal(seed=0))) # agregar capa\n",
    "modelo.add(Dense(out_dimension, activation='sigmoid', kernel_initializer=glorot_normal(seed=0)))"
   ]
  },
  {
   "cell_type": "code",
   "execution_count": 50,
   "metadata": {},
   "outputs": [
    {
     "name": "stdout",
     "output_type": "stream",
     "text": [
      "Epoch 1/10\n",
      "451/451 [==============================] - 1s 1ms/step - loss: 116818413.3980 - acc: 0.7716\n",
      "Epoch 2/10\n",
      "451/451 [==============================] - 0s 55us/step - loss: 116818410.4935 - acc: 1.0000\n",
      "Epoch 3/10\n",
      "451/451 [==============================] - 0s 46us/step - loss: 116818408.5710 - acc: 1.0000\n",
      "Epoch 4/10\n",
      "451/451 [==============================] - 0s 51us/step - loss: 116818413.5444 - acc: 1.0000\n",
      "Epoch 5/10\n",
      "451/451 [==============================] - 0s 49us/step - loss: 116818410.4404 - acc: 1.0000\n",
      "Epoch 6/10\n",
      "451/451 [==============================] - 0s 49us/step - loss: 116818412.0621 - acc: 1.0000\n",
      "Epoch 7/10\n",
      "451/451 [==============================] - 0s 49us/step - loss: 116818411.4324 - acc: 1.0000\n",
      "Epoch 8/10\n",
      "451/451 [==============================] - 0s 57us/step - loss: 116818412.6573 - acc: 1.0000\n",
      "Epoch 9/10\n",
      "451/451 [==============================] - 0s 53us/step - loss: 116818411.9911 - acc: 1.0000\n",
      "Epoch 10/10\n",
      "451/451 [==============================] - 0s 51us/step - loss: 116818411.7914 - acc: 1.0000\n"
     ]
    }
   ],
   "source": [
    "modelo.compile(loss='mean_squared_error', optimizer='adam', metrics=['accuracy'])\n",
    "training = modelo.fit(X_train, Y_train, epochs=10)"
   ]
  },
  {
   "cell_type": "code",
   "execution_count": 51,
   "metadata": {},
   "outputs": [
    {
     "name": "stdout",
     "output_type": "stream",
     "text": [
      "113/113 [==============================] - 0s 830us/step\n",
      "Accuracy: 1.0\n"
     ]
    }
   ],
   "source": [
    "resultados = modelo.evaluate(X_test, Y_test, batch_size=len(Y_test))\n",
    "print('Accuracy:', resultados[1])"
   ]
  },
  {
   "cell_type": "code",
   "execution_count": null,
   "metadata": {},
   "outputs": [],
   "source": []
  }
 ],
 "metadata": {
  "kernelspec": {
   "display_name": "Python 3",
   "language": "python",
   "name": "python3"
  },
  "language_info": {
   "codemirror_mode": {
    "name": "ipython",
    "version": 3
   },
   "file_extension": ".py",
   "mimetype": "text/x-python",
   "name": "python",
   "nbconvert_exporter": "python",
   "pygments_lexer": "ipython3",
   "version": "3.6.5"
  }
 },
 "nbformat": 4,
 "nbformat_minor": 2
}
