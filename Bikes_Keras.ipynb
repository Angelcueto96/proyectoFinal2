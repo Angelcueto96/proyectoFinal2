{
 "cells": [
  {
   "cell_type": "code",
   "execution_count": 1,
   "metadata": {},
   "outputs": [
    {
     "name": "stderr",
     "output_type": "stream",
     "text": [
      "/Users/martinfigueroapadilla/anaconda3/lib/python3.6/site-packages/h5py/__init__.py:36: FutureWarning: Conversion of the second argument of issubdtype from `float` to `np.floating` is deprecated. In future, it will be treated as `np.float64 == np.dtype(float).type`.\n",
      "  from ._conv import register_converters as _register_converters\n",
      "Using TensorFlow backend.\n"
     ]
    }
   ],
   "source": [
    "import math\n",
    "import numpy as np\n",
    "from sklearn.datasets import make_moons\n",
    "from sklearn.model_selection import train_test_split\n",
    "import matplotlib.pyplot as plt\n",
    "import tensorflow as tf\n",
    "from tensorflow.contrib.layers import fully_connected\n",
    "%matplotlib inline\n",
    "import pandas as pd\n",
    "from keras import Sequential\n",
    "from keras.layers import Dense\n",
    "from keras.initializers import glorot_normal"
   ]
  },
  {
   "cell_type": "code",
   "execution_count": 2,
   "metadata": {},
   "outputs": [],
   "source": [
    "def plot_decision_boundary(modelo, X, Y):\n",
    "        x_min, x_max = X[:, 0].min()-0.1, X[:, 0].max()+0.1\n",
    "        y_min, y_max = X[:, 1].min()-0.1, X[:, 1].max()+0.1\n",
    "        spacing = min(x_max - x_min, y_max - y_min) / 100\n",
    "        XX, YY = np.meshgrid(np.arange(x_min, x_max, spacing),\n",
    "                       np.arange(y_min, y_max, spacing))\n",
    "        data = np.hstack((XX.ravel().reshape(-1,1), \n",
    "                          YY.ravel().reshape(-1,1)))\n",
    "        db_prob = modelo.predict(data)\n",
    "        clf = np.where(db_prob<0.5,0,1)\n",
    "        Z = clf.reshape(XX.shape)\n",
    "        plt.figure(figsize=(10,8))\n",
    "        plt.contourf(XX, YY, Z, cmap=plt.cm.Spectral, alpha=0.8)\n",
    "        plt.scatter(X[:,0], X[:,1], c=Y, \n",
    "                    cmap=plt.cm.Spectral)\n",
    "        plt.show()"
   ]
  },
  {
   "cell_type": "code",
   "execution_count": 3,
   "metadata": {},
   "outputs": [],
   "source": [
    "features = pd.read_csv(\"data/bikes.csv\", header='infer', usecols=['temp', 'atemp', 'hum', 'windspeed'])\n",
    "target = pd.read_csv(\"data/bikes.csv\", header='infer', usecols=['cnt'])"
   ]
  },
  {
   "cell_type": "code",
   "execution_count": 4,
   "metadata": {},
   "outputs": [],
   "source": [
    "X = np.array(features)\n",
    "Y = np.array(target)\n",
    "\n",
    "Xtrain = np.array(features[:math.floor(17378 * 0.8)])\n",
    "Ytrain = np.array(target[:math.floor(17378 * 0.8)])\n",
    "\n",
    "Xtest = np.array(features[math.floor(17378 * 0.8):])\n",
    "Ytest = np.array(target[math.floor(17378 * 0.8):])"
   ]
  },
  {
   "cell_type": "code",
   "execution_count": 5,
   "metadata": {},
   "outputs": [],
   "source": [
    "out_dimension = 1\n",
    "nHidden = 200\n",
    "nInputDimensions = Xtrain.shape[1]"
   ]
  },
  {
   "cell_type": "code",
   "execution_count": 6,
   "metadata": {},
   "outputs": [],
   "source": [
    "modelo = Sequential()\n",
    "modelo.add(Dense(nHidden, input_dim=nInputDimensions, activation='elu', \\\n",
    "                  kernel_initializer=glorot_normal(seed=0)))\n",
    "for i in range(0, 1): # capas\n",
    "    modelo.add(Dense(nHidden, activation='elu', kernel_initializer=glorot_normal(seed=0))) # agregar capa\n",
    "modelo.add(Dense(out_dimension, activation='sigmoid', kernel_initializer=glorot_normal(seed=0)))"
   ]
  },
  {
   "cell_type": "code",
   "execution_count": 7,
   "metadata": {},
   "outputs": [
    {
     "name": "stdout",
     "output_type": "stream",
     "text": [
      "Epoch 1/1000\n",
      "13902/13902 [==============================] - 3s 212us/step - loss: 58025.5901 - acc: 0.0107\n",
      "Epoch 2/1000\n",
      "13902/13902 [==============================] - 2s 177us/step - loss: 58023.5741 - acc: 0.0107\n",
      "Epoch 3/1000\n",
      "13902/13902 [==============================] - 2s 177us/step - loss: 58023.5685 - acc: 0.0107\n",
      "Epoch 4/1000\n",
      "13902/13902 [==============================] - 2s 177us/step - loss: 58023.5674 - acc: 0.0107\n",
      "Epoch 5/1000\n",
      "13902/13902 [==============================] - 2s 177us/step - loss: 58023.5673 - acc: 0.0107\n",
      "Epoch 6/1000\n",
      "13902/13902 [==============================] - 2s 178us/step - loss: 58023.5673 - acc: 0.0107\n",
      "Epoch 7/1000\n",
      "13902/13902 [==============================] - 3s 181us/step - loss: 58023.5673 - acc: 0.0107\n",
      "Epoch 8/1000\n",
      "13902/13902 [==============================] - 3s 183us/step - loss: 58023.5673 - acc: 0.0107\n",
      "Epoch 9/1000\n",
      "13902/13902 [==============================] - 3s 189us/step - loss: 58023.5673 - acc: 0.0107\n",
      "Epoch 10/1000\n",
      "13902/13902 [==============================] - 3s 184us/step - loss: 58023.5673 - acc: 0.0107\n",
      "Epoch 11/1000\n",
      "13902/13902 [==============================] - 3s 186us/step - loss: 58023.5673 - acc: 0.0107\n",
      "Epoch 12/1000\n",
      "13902/13902 [==============================] - 3s 193us/step - loss: 58023.5673 - acc: 0.0107\n",
      "Epoch 13/1000\n",
      "13902/13902 [==============================] - 3s 193us/step - loss: 58023.5673 - acc: 0.0107\n",
      "Epoch 14/1000\n",
      "13902/13902 [==============================] - 3s 191us/step - loss: 58023.5673 - acc: 0.0107\n",
      "Epoch 15/1000\n",
      "13902/13902 [==============================] - 3s 188us/step - loss: 58023.5673 - acc: 0.0107\n",
      "Epoch 16/1000\n",
      "13902/13902 [==============================] - 3s 188us/step - loss: 58023.5673 - acc: 0.0107\n",
      "Epoch 17/1000\n",
      "13902/13902 [==============================] - 3s 191us/step - loss: 58023.5673 - acc: 0.0107\n",
      "Epoch 18/1000\n",
      "13902/13902 [==============================] - 3s 187us/step - loss: 58023.5673 - acc: 0.0107\n",
      "Epoch 19/1000\n",
      "13902/13902 [==============================] - 3s 193us/step - loss: 58023.5673 - acc: 0.0107\n",
      "Epoch 20/1000\n",
      "13902/13902 [==============================] - 3s 201us/step - loss: 58023.5673 - acc: 0.0107\n",
      "Epoch 21/1000\n",
      "13902/13902 [==============================] - 3s 190us/step - loss: 58023.5673 - acc: 0.0107\n",
      "Epoch 22/1000\n",
      "13902/13902 [==============================] - 3s 193us/step - loss: 58023.5673 - acc: 0.0107\n",
      "Epoch 23/1000\n",
      "13902/13902 [==============================] - 3s 210us/step - loss: 58023.5673 - acc: 0.0107\n",
      "Epoch 24/1000\n",
      "13902/13902 [==============================] - 3s 192us/step - loss: 58023.5673 - acc: 0.0107\n",
      "Epoch 25/1000\n",
      "13902/13902 [==============================] - 3s 193us/step - loss: 58023.5673 - acc: 0.0107\n",
      "Epoch 26/1000\n",
      "13902/13902 [==============================] - 3s 191us/step - loss: 58023.5673 - acc: 0.0107\n",
      "Epoch 27/1000\n",
      "13902/13902 [==============================] - 3s 202us/step - loss: 58023.5673 - acc: 0.0107\n",
      "Epoch 28/1000\n",
      "13902/13902 [==============================] - 3s 208us/step - loss: 58023.5673 - acc: 0.0107\n",
      "Epoch 29/1000\n",
      "13902/13902 [==============================] - 3s 195us/step - loss: 58023.5673 - acc: 0.0107\n",
      "Epoch 30/1000\n",
      "13902/13902 [==============================] - 3s 194us/step - loss: 58023.5673 - acc: 0.0107\n",
      "Epoch 31/1000\n",
      "13902/13902 [==============================] - 3s 195us/step - loss: 58023.5673 - acc: 0.0107\n",
      "Epoch 32/1000\n",
      "13902/13902 [==============================] - 3s 197us/step - loss: 58023.5673 - acc: 0.0107\n",
      "Epoch 33/1000\n",
      "13902/13902 [==============================] - 3s 212us/step - loss: 58023.5673 - acc: 0.0107\n",
      "Epoch 34/1000\n",
      " 8160/13902 [================>.............] - ETA: 1s - loss: 58790.8453 - acc: 0.0104"
     ]
    },
    {
     "ename": "KeyboardInterrupt",
     "evalue": "",
     "output_type": "error",
     "traceback": [
      "\u001b[0;31m---------------------------------------------------------------------------\u001b[0m",
      "\u001b[0;31mKeyboardInterrupt\u001b[0m                         Traceback (most recent call last)",
      "\u001b[0;32m<ipython-input-7-c8a2bab74211>\u001b[0m in \u001b[0;36m<module>\u001b[0;34m()\u001b[0m\n\u001b[1;32m      1\u001b[0m \u001b[0mmodelo\u001b[0m\u001b[0;34m.\u001b[0m\u001b[0mcompile\u001b[0m\u001b[0;34m(\u001b[0m\u001b[0mloss\u001b[0m\u001b[0;34m=\u001b[0m\u001b[0;34m'mean_squared_error'\u001b[0m\u001b[0;34m,\u001b[0m \u001b[0moptimizer\u001b[0m\u001b[0;34m=\u001b[0m\u001b[0;34m'adam'\u001b[0m\u001b[0;34m,\u001b[0m \u001b[0mmetrics\u001b[0m\u001b[0;34m=\u001b[0m\u001b[0;34m[\u001b[0m\u001b[0;34m'accuracy'\u001b[0m\u001b[0;34m]\u001b[0m\u001b[0;34m)\u001b[0m\u001b[0;34m\u001b[0m\u001b[0m\n\u001b[0;32m----> 2\u001b[0;31m \u001b[0mtraining\u001b[0m \u001b[0;34m=\u001b[0m \u001b[0mmodelo\u001b[0m\u001b[0;34m.\u001b[0m\u001b[0mfit\u001b[0m\u001b[0;34m(\u001b[0m\u001b[0mXtrain\u001b[0m\u001b[0;34m,\u001b[0m \u001b[0mYtrain\u001b[0m\u001b[0;34m,\u001b[0m \u001b[0mepochs\u001b[0m\u001b[0;34m=\u001b[0m\u001b[0;36m1000\u001b[0m\u001b[0;34m)\u001b[0m\u001b[0;34m\u001b[0m\u001b[0m\n\u001b[0m",
      "\u001b[0;32m~/anaconda3/lib/python3.6/site-packages/keras/engine/training.py\u001b[0m in \u001b[0;36mfit\u001b[0;34m(self, x, y, batch_size, epochs, verbose, callbacks, validation_split, validation_data, shuffle, class_weight, sample_weight, initial_epoch, steps_per_epoch, validation_steps, **kwargs)\u001b[0m\n\u001b[1;32m   1037\u001b[0m                                         \u001b[0minitial_epoch\u001b[0m\u001b[0;34m=\u001b[0m\u001b[0minitial_epoch\u001b[0m\u001b[0;34m,\u001b[0m\u001b[0;34m\u001b[0m\u001b[0m\n\u001b[1;32m   1038\u001b[0m                                         \u001b[0msteps_per_epoch\u001b[0m\u001b[0;34m=\u001b[0m\u001b[0msteps_per_epoch\u001b[0m\u001b[0;34m,\u001b[0m\u001b[0;34m\u001b[0m\u001b[0m\n\u001b[0;32m-> 1039\u001b[0;31m                                         validation_steps=validation_steps)\n\u001b[0m\u001b[1;32m   1040\u001b[0m \u001b[0;34m\u001b[0m\u001b[0m\n\u001b[1;32m   1041\u001b[0m     def evaluate(self, x=None, y=None,\n",
      "\u001b[0;32m~/anaconda3/lib/python3.6/site-packages/keras/engine/training_arrays.py\u001b[0m in \u001b[0;36mfit_loop\u001b[0;34m(model, f, ins, out_labels, batch_size, epochs, verbose, callbacks, val_f, val_ins, shuffle, callback_metrics, initial_epoch, steps_per_epoch, validation_steps)\u001b[0m\n\u001b[1;32m    197\u001b[0m                     \u001b[0mins_batch\u001b[0m\u001b[0;34m[\u001b[0m\u001b[0mi\u001b[0m\u001b[0;34m]\u001b[0m \u001b[0;34m=\u001b[0m \u001b[0mins_batch\u001b[0m\u001b[0;34m[\u001b[0m\u001b[0mi\u001b[0m\u001b[0;34m]\u001b[0m\u001b[0;34m.\u001b[0m\u001b[0mtoarray\u001b[0m\u001b[0;34m(\u001b[0m\u001b[0;34m)\u001b[0m\u001b[0;34m\u001b[0m\u001b[0m\n\u001b[1;32m    198\u001b[0m \u001b[0;34m\u001b[0m\u001b[0m\n\u001b[0;32m--> 199\u001b[0;31m                 \u001b[0mouts\u001b[0m \u001b[0;34m=\u001b[0m \u001b[0mf\u001b[0m\u001b[0;34m(\u001b[0m\u001b[0mins_batch\u001b[0m\u001b[0;34m)\u001b[0m\u001b[0;34m\u001b[0m\u001b[0m\n\u001b[0m\u001b[1;32m    200\u001b[0m                 \u001b[0mouts\u001b[0m \u001b[0;34m=\u001b[0m \u001b[0mto_list\u001b[0m\u001b[0;34m(\u001b[0m\u001b[0mouts\u001b[0m\u001b[0;34m)\u001b[0m\u001b[0;34m\u001b[0m\u001b[0m\n\u001b[1;32m    201\u001b[0m                 \u001b[0;32mfor\u001b[0m \u001b[0ml\u001b[0m\u001b[0;34m,\u001b[0m \u001b[0mo\u001b[0m \u001b[0;32min\u001b[0m \u001b[0mzip\u001b[0m\u001b[0;34m(\u001b[0m\u001b[0mout_labels\u001b[0m\u001b[0;34m,\u001b[0m \u001b[0mouts\u001b[0m\u001b[0;34m)\u001b[0m\u001b[0;34m:\u001b[0m\u001b[0;34m\u001b[0m\u001b[0m\n",
      "\u001b[0;32m~/anaconda3/lib/python3.6/site-packages/keras/backend/tensorflow_backend.py\u001b[0m in \u001b[0;36m__call__\u001b[0;34m(self, inputs)\u001b[0m\n\u001b[1;32m   2713\u001b[0m                 \u001b[0;32mreturn\u001b[0m \u001b[0mself\u001b[0m\u001b[0;34m.\u001b[0m\u001b[0m_legacy_call\u001b[0m\u001b[0;34m(\u001b[0m\u001b[0minputs\u001b[0m\u001b[0;34m)\u001b[0m\u001b[0;34m\u001b[0m\u001b[0m\n\u001b[1;32m   2714\u001b[0m \u001b[0;34m\u001b[0m\u001b[0m\n\u001b[0;32m-> 2715\u001b[0;31m             \u001b[0;32mreturn\u001b[0m \u001b[0mself\u001b[0m\u001b[0;34m.\u001b[0m\u001b[0m_call\u001b[0m\u001b[0;34m(\u001b[0m\u001b[0minputs\u001b[0m\u001b[0;34m)\u001b[0m\u001b[0;34m\u001b[0m\u001b[0m\n\u001b[0m\u001b[1;32m   2716\u001b[0m         \u001b[0;32melse\u001b[0m\u001b[0;34m:\u001b[0m\u001b[0;34m\u001b[0m\u001b[0m\n\u001b[1;32m   2717\u001b[0m             \u001b[0;32mif\u001b[0m \u001b[0mpy_any\u001b[0m\u001b[0;34m(\u001b[0m\u001b[0mis_tensor\u001b[0m\u001b[0;34m(\u001b[0m\u001b[0mx\u001b[0m\u001b[0;34m)\u001b[0m \u001b[0;32mfor\u001b[0m \u001b[0mx\u001b[0m \u001b[0;32min\u001b[0m \u001b[0minputs\u001b[0m\u001b[0;34m)\u001b[0m\u001b[0;34m:\u001b[0m\u001b[0;34m\u001b[0m\u001b[0m\n",
      "\u001b[0;32m~/anaconda3/lib/python3.6/site-packages/keras/backend/tensorflow_backend.py\u001b[0m in \u001b[0;36m_call\u001b[0;34m(self, inputs)\u001b[0m\n\u001b[1;32m   2673\u001b[0m             \u001b[0mfetched\u001b[0m \u001b[0;34m=\u001b[0m \u001b[0mself\u001b[0m\u001b[0;34m.\u001b[0m\u001b[0m_callable_fn\u001b[0m\u001b[0;34m(\u001b[0m\u001b[0;34m*\u001b[0m\u001b[0marray_vals\u001b[0m\u001b[0;34m,\u001b[0m \u001b[0mrun_metadata\u001b[0m\u001b[0;34m=\u001b[0m\u001b[0mself\u001b[0m\u001b[0;34m.\u001b[0m\u001b[0mrun_metadata\u001b[0m\u001b[0;34m)\u001b[0m\u001b[0;34m\u001b[0m\u001b[0m\n\u001b[1;32m   2674\u001b[0m         \u001b[0;32melse\u001b[0m\u001b[0;34m:\u001b[0m\u001b[0;34m\u001b[0m\u001b[0m\n\u001b[0;32m-> 2675\u001b[0;31m             \u001b[0mfetched\u001b[0m \u001b[0;34m=\u001b[0m \u001b[0mself\u001b[0m\u001b[0;34m.\u001b[0m\u001b[0m_callable_fn\u001b[0m\u001b[0;34m(\u001b[0m\u001b[0;34m*\u001b[0m\u001b[0marray_vals\u001b[0m\u001b[0;34m)\u001b[0m\u001b[0;34m\u001b[0m\u001b[0m\n\u001b[0m\u001b[1;32m   2676\u001b[0m         \u001b[0;32mreturn\u001b[0m \u001b[0mfetched\u001b[0m\u001b[0;34m[\u001b[0m\u001b[0;34m:\u001b[0m\u001b[0mlen\u001b[0m\u001b[0;34m(\u001b[0m\u001b[0mself\u001b[0m\u001b[0;34m.\u001b[0m\u001b[0moutputs\u001b[0m\u001b[0;34m)\u001b[0m\u001b[0;34m]\u001b[0m\u001b[0;34m\u001b[0m\u001b[0m\n\u001b[1;32m   2677\u001b[0m \u001b[0;34m\u001b[0m\u001b[0m\n",
      "\u001b[0;32m~/anaconda3/lib/python3.6/site-packages/tensorflow/python/client/session.py\u001b[0m in \u001b[0;36m__call__\u001b[0;34m(self, *args, **kwargs)\u001b[0m\n\u001b[1;32m   1380\u001b[0m           ret = tf_session.TF_SessionRunCallable(\n\u001b[1;32m   1381\u001b[0m               \u001b[0mself\u001b[0m\u001b[0;34m.\u001b[0m\u001b[0m_session\u001b[0m\u001b[0;34m.\u001b[0m\u001b[0m_session\u001b[0m\u001b[0;34m,\u001b[0m \u001b[0mself\u001b[0m\u001b[0;34m.\u001b[0m\u001b[0m_handle\u001b[0m\u001b[0;34m,\u001b[0m \u001b[0margs\u001b[0m\u001b[0;34m,\u001b[0m \u001b[0mstatus\u001b[0m\u001b[0;34m,\u001b[0m\u001b[0;34m\u001b[0m\u001b[0m\n\u001b[0;32m-> 1382\u001b[0;31m               run_metadata_ptr)\n\u001b[0m\u001b[1;32m   1383\u001b[0m         \u001b[0;32mif\u001b[0m \u001b[0mrun_metadata\u001b[0m\u001b[0;34m:\u001b[0m\u001b[0;34m\u001b[0m\u001b[0m\n\u001b[1;32m   1384\u001b[0m           \u001b[0mproto_data\u001b[0m \u001b[0;34m=\u001b[0m \u001b[0mtf_session\u001b[0m\u001b[0;34m.\u001b[0m\u001b[0mTF_GetBuffer\u001b[0m\u001b[0;34m(\u001b[0m\u001b[0mrun_metadata_ptr\u001b[0m\u001b[0;34m)\u001b[0m\u001b[0;34m\u001b[0m\u001b[0m\n",
      "\u001b[0;31mKeyboardInterrupt\u001b[0m: "
     ]
    }
   ],
   "source": [
    "modelo.compile(loss='mean_squared_error', optimizer='adam', metrics=['accuracy'])\n",
    "training = modelo.fit(Xtrain, Ytrain, epochs=1000)"
   ]
  },
  {
   "cell_type": "code",
   "execution_count": 8,
   "metadata": {},
   "outputs": [
    {
     "name": "stdout",
     "output_type": "stream",
     "text": [
      "3477/3477 [==============================] - 0s 34us/step\n",
      "Accuracy: 0.0025884383358061314\n"
     ]
    }
   ],
   "source": [
    "resultados = modelo.evaluate(Xtest, Ytest, batch_size=len(Ytest))\n",
    "print('Accuracy:', resultados[1])"
   ]
  },
  {
   "cell_type": "code",
   "execution_count": null,
   "metadata": {},
   "outputs": [],
   "source": []
  },
  {
   "cell_type": "code",
   "execution_count": null,
   "metadata": {},
   "outputs": [],
   "source": []
  }
 ],
 "metadata": {
  "kernelspec": {
   "display_name": "Python 3",
   "language": "python",
   "name": "python3"
  },
  "language_info": {
   "codemirror_mode": {
    "name": "ipython",
    "version": 3
   },
   "file_extension": ".py",
   "mimetype": "text/x-python",
   "name": "python",
   "nbconvert_exporter": "python",
   "pygments_lexer": "ipython3",
   "version": "3.6.5"
  }
 },
 "nbformat": 4,
 "nbformat_minor": 2
}
